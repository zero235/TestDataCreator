{
 "cells": [
  {
   "cell_type": "code",
   "execution_count": 1,
   "id": "6ab6057c",
   "metadata": {},
   "outputs": [],
   "source": [
    "import pandas\n",
    "\n",
    "#df= pandas.read_csv('babyNamesUS.csv')\n",
    "#print(df)\n",
    "\n",
    "df= pandas.read_csv('NamesAKTX.csv')\n",
    "#print(df)\n"
   ]
  },
  {
   "cell_type": "code",
   "execution_count": 2,
   "id": "050d7fb8",
   "metadata": {},
   "outputs": [],
   "source": [
    "#get texas names and AK names\n",
    "SmallerDF=df.loc[(df['StateCode'] == 'TX') | (df['StateCode'] == 'AK')]\n",
    "#print(SmallerDF)"
   ]
  },
  {
   "cell_type": "code",
   "execution_count": 3,
   "id": "da48216e",
   "metadata": {},
   "outputs": [],
   "source": [
    "#Take just the smaller DB of names as source just TX and Alaska due to github limits\n",
    "SmallerDF.to_csv('NamesAKTX.csv') #just a random capture of the smaller example"
   ]
  },
  {
   "cell_type": "code",
   "execution_count": 4,
   "id": "07316c5b",
   "metadata": {},
   "outputs": [
    {
     "name": "stdout",
     "output_type": "stream",
     "text": [
      "        Unnamed: 0  Unnamed: 0.1  Unnamed: 0.1.1  Unnamed: 0.1.1.1  \\\n",
      "201965      201965        201965          201965            201965   \n",
      "\n",
      "        Unnamed: 0.1.1.1.1 StateCode Sex  YearOfBirth      Name  Number  \n",
      "201965             5007177        TX   F         2012  Giovanna      23  \n",
      "201965    Giovanna\n",
      "Name: Name, dtype: object\n"
     ]
    }
   ],
   "source": [
    "PickOne = SmallerDF.sample() ###NARROW BY YEAR PLUS OR MINUS 3, THEN STATE, THEN SEX\n",
    "print(PickOne)\n",
    "print(PickOne.Name)"
   ]
  },
  {
   "cell_type": "code",
   "execution_count": 16,
   "id": "d2e4bf56",
   "metadata": {},
   "outputs": [],
   "source": [
    "def findword(name,n):\n",
    "    #Using ' ' as a separator, All_words ia a list of all the words in the String\n",
    "    All_words=name.split(\" \")\n",
    "    return (All_words[n-1])\n",
    "   "
   ]
  },
  {
   "cell_type": "code",
   "execution_count": 26,
   "id": "2f9dc68b",
   "metadata": {},
   "outputs": [
    {
     "data": {
      "text/plain": [
       "'Mozell'"
      ]
     },
     "execution_count": 26,
     "metadata": {},
     "output_type": "execute_result"
    }
   ],
   "source": [
    "#make a first name function\n",
    "def FetchFirstName(Year, State, Sex):\n",
    "    NarrowedDF=df.loc[(df['StateCode'] == State) & (df['YearOfBirth'] == Year) & (df['Sex'] == Sex)]\n",
    "  \n",
    "    #print(NarrowedDF)\n",
    "    PickAName=NarrowedDF.sample()\n",
    "    NameToReturn=PickAName.Name.to_string()\n",
    "    \n",
    "    return findword(NameToReturn,5)   #five spaces equals a tab\n",
    "    \n",
    "FetchFirstName(1912,'TX','F')\n",
    "\n"
   ]
  },
  {
   "cell_type": "code",
   "execution_count": 7,
   "id": "dc238233",
   "metadata": {},
   "outputs": [],
   "source": [
    "LastNameDataFrame= pandas.read_csv('surnames.csv')\n",
    "#print(LastNameDataFrame)\n"
   ]
  },
  {
   "cell_type": "code",
   "execution_count": 27,
   "id": "40e49822",
   "metadata": {},
   "outputs": [
    {
     "data": {
      "text/plain": [
       "'Case'"
      ]
     },
     "execution_count": 27,
     "metadata": {},
     "output_type": "execute_result"
    }
   ],
   "source": [
    "def FetchLastName():\n",
    "    import numpy\n",
    "\n",
    "    SelectOne = LastNameDataFrame.sample() ###NARROW BY YEAR PLUS OR MINUS 3, THEN STATE, THEN SEX\n",
    "    NameToReturn=SelectOne.name.to_string()\n",
    "    FormattedName=findword(NameToReturn,5)  #five spaces equals a tab\n",
    "    FormattedName=FormattedName.capitalize() #capitalize first letter of word\n",
    "\n",
    "    return FormattedName\n",
    "    \n",
    "FetchLastName()    \n"
   ]
  },
  {
   "cell_type": "code",
   "execution_count": 23,
   "id": "306fc24a",
   "metadata": {},
   "outputs": [],
   "source": [
    "#need middle name so the first name has to be run twice.\n"
   ]
  },
  {
   "cell_type": "code",
   "execution_count": 28,
   "id": "41e13d82",
   "metadata": {},
   "outputs": [],
   "source": [
    "def MakeAName():\n",
    "    firstname=FetchFirstName(1912,'TX','F')\n",
    "    lastname=FetchLastName()\n",
    "    \n",
    "    fullname=firstname+\" \"+lastname\n",
    "    \n",
    "    return fullname\n"
   ]
  },
  {
   "cell_type": "code",
   "execution_count": 39,
   "id": "937542f2",
   "metadata": {},
   "outputs": [
    {
     "name": "stdout",
     "output_type": "stream",
     "text": [
      "Sophie Rice\n",
      "Ola Mccullough\n",
      "Consepcion Whitehead\n",
      "Vida Ware\n",
      "Lena Duncan\n",
      "Maurice Finch\n",
      "Jeannette Navarro\n",
      "Juanita Davenport\n",
      "Celia Baxter\n",
      "Dionicia Hanson\n",
      "Caroline Bernard\n",
      "Lucille Simon\n",
      "Oma Walsh\n",
      "Ninfa Fletcher\n",
      "Rosemary Lara\n",
      "Sammie Odonnell\n",
      "Hannah Byrd\n",
      "Versie Howe\n",
      "Mildred Frazier\n",
      "May Rosario\n",
      "Kitty Witt\n",
      "Katherine Pope\n",
      "Zada Oneal\n",
      "Felipa Berry\n",
      "Vallie Mcguire\n",
      "Olevia Lehman\n",
      "Lula Hebert\n",
      "Alicia Bowers\n",
      "Oleta Rowland\n",
      "Christina Parks\n",
      "Joan Hatfield\n",
      "Lois Bryan\n",
      "Cleora Childers\n",
      "Clara Guzman\n",
      "Cecilia Frye\n",
      "Bernice Harper\n",
      "Ola Sweeney\n",
      "Agnes Ritter\n",
      "Naomi Porter\n",
      "Nova Hickman\n",
      "Josefina Forbes\n",
      "Ona Erickson\n",
      "Della Robles\n",
      "Earlene Simmons\n",
      "Ozella Lowe\n",
      "Ila Berry\n",
      "Mozell Noble\n",
      "John Anthony\n",
      "Berniece Strickland\n",
      "Roma Heath\n",
      "Jean Koch\n",
      "Rheba Delacruz\n",
      "Cleo Beck\n",
      "Grace Le\n",
      "Bernice Roach\n",
      "Geraldine Mccall\n",
      "Alberta Christian\n",
      "Sophie Monroe\n",
      "Iva Gamble\n",
      "Jeffie Lowe\n",
      "Lona Miles\n",
      "Edythe Oconnor\n",
      "Lottie Brennan\n",
      "Zula Mcfadden\n",
      "Peggy Witt\n",
      "Lily Ellison\n",
      "June Bowers\n",
      "Berniece Fitzpatrick\n",
      "Emily Medrano\n",
      "Hertha Stuart\n",
      "Oralia Hodges\n",
      "Tessie Simpson\n",
      "Cornelia Molina\n",
      "Lola Lowe\n",
      "Augusta Leon\n",
      "Zella Castro\n",
      "Dolly Waller\n",
      "Doris Duffy\n",
      "Callie Key\n",
      "Virginia Robbins\n",
      "Corene Shields\n",
      "Eunice Morrison\n",
      "Olevia Mackey\n",
      "Gertrude Wallace\n",
      "Angela Singleton\n",
      "Mollie Flynn\n",
      "Ola Greene\n",
      "Imogene Short\n",
      "Janie Pacheco\n",
      "Norma Kaplan\n",
      "Beatrice Sawyer\n",
      "Rosie Cobb\n",
      "Simona Phelps\n",
      "Norma Cline\n",
      "Sofia Gaines\n",
      "Georgie Chavez\n",
      "Elva Woodward\n",
      "Willa Berger\n",
      "Alpha Benjamin\n",
      "Elena Mcdowell\n"
     ]
    }
   ],
   "source": [
    "for i in range(100):\n",
    "    print(MakeAName())"
   ]
  },
  {
   "cell_type": "code",
   "execution_count": null,
   "id": "97b05c12",
   "metadata": {},
   "outputs": [],
   "source": []
  },
  {
   "cell_type": "code",
   "execution_count": null,
   "id": "2820679d",
   "metadata": {},
   "outputs": [],
   "source": []
  }
 ],
 "metadata": {
  "kernelspec": {
   "display_name": "Python 3",
   "language": "python",
   "name": "python3"
  },
  "language_info": {
   "codemirror_mode": {
    "name": "ipython",
    "version": 3
   },
   "file_extension": ".py",
   "mimetype": "text/x-python",
   "name": "python",
   "nbconvert_exporter": "python",
   "pygments_lexer": "ipython3",
   "version": "3.8.8"
  }
 },
 "nbformat": 4,
 "nbformat_minor": 5
}
