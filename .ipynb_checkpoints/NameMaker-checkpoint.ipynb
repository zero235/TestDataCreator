{
 "cells": [
  {
   "cell_type": "code",
   "execution_count": 28,
   "id": "6ab6057c",
   "metadata": {},
   "outputs": [
    {
     "name": "stdout",
     "output_type": "stream",
     "text": [
      "        StateCode Sex  YearOfBirth      Name  Number\n",
      "0              AK   F         1910      Mary      14\n",
      "1              AK   F         1910     Annie      12\n",
      "2              AK   F         1910      Anna      10\n",
      "3              AK   F         1910  Margaret       8\n",
      "4              AK   F         1910     Helen       7\n",
      "...           ...  ..          ...       ...     ...\n",
      "5743012        WY   M         2015  Sterling       5\n",
      "5743013        WY   M         2015    Steven       5\n",
      "5743014        WY   M         2015     Trace       5\n",
      "5743015        WY   M         2015   Tristan       5\n",
      "5743016        WY   M         2015     Tyson       5\n",
      "\n",
      "[5743017 rows x 5 columns]\n"
     ]
    }
   ],
   "source": [
    "import pandas\n",
    "\n",
    "df= pandas.read_csv('babyNamesUS.csv')\n",
    "print(df)"
   ]
  },
  {
   "cell_type": "code",
   "execution_count": 30,
   "id": "a430cc69",
   "metadata": {},
   "outputs": [
    {
     "name": "stdout",
     "output_type": "stream",
     "text": [
      "        StateCode Sex  YearOfBirth    Name  Number\n",
      "4832355        TX   F         1910    Mary     895\n",
      "4832356        TX   F         1910    Ruby     314\n",
      "4832357        TX   F         1910   Annie     277\n",
      "4832358        TX   F         1910  Willie     260\n",
      "4832359        TX   F         1910    Ruth     252\n",
      "...           ...  ..          ...     ...     ...\n",
      "5163022        TX   M         2015     Zen       5\n",
      "5163023        TX   M         2015  Zephan       5\n",
      "5163024        TX   M         2015   Ziyad       5\n",
      "5163025        TX   M         2015    Zyan       5\n",
      "5163026        TX   M         2015   Zyron       5\n",
      "\n",
      "[330672 rows x 5 columns]\n"
     ]
    }
   ],
   "source": [
    "#get texas names to make a smaller file\n",
    "SmallerDF=df.loc[df['StateCode'] == 'TX']\n",
    "print(SmallerDF)\n"
   ]
  },
  {
   "cell_type": "code",
   "execution_count": 31,
   "id": "050d7fb8",
   "metadata": {},
   "outputs": [
    {
     "name": "stdout",
     "output_type": "stream",
     "text": [
      "        StateCode Sex  YearOfBirth      Name  Number\n",
      "0              AK   F         1910      Mary      14\n",
      "1              AK   F         1910     Annie      12\n",
      "2              AK   F         1910      Anna      10\n",
      "3              AK   F         1910  Margaret       8\n",
      "4              AK   F         1910     Helen       7\n",
      "...           ...  ..          ...       ...     ...\n",
      "5163022        TX   M         2015       Zen       5\n",
      "5163023        TX   M         2015    Zephan       5\n",
      "5163024        TX   M         2015     Ziyad       5\n",
      "5163025        TX   M         2015      Zyan       5\n",
      "5163026        TX   M         2015     Zyron       5\n",
      "\n",
      "[357815 rows x 5 columns]\n"
     ]
    }
   ],
   "source": [
    "#get texas names and AK names\n",
    "SmallerDF=df.loc[(df['StateCode'] == 'TX') | (df['StateCode'] == 'AK')]\n",
    "print(SmallerDF)"
   ]
  },
  {
   "cell_type": "code",
   "execution_count": 33,
   "id": "da48216e",
   "metadata": {},
   "outputs": [],
   "source": [
    "#Take just the smaller DB of names as source just TX and Alaska due to github limits\n",
    "SmallerDF.to_csv('NamesAKTX.csv')"
   ]
  },
  {
   "cell_type": "code",
   "execution_count": null,
   "id": "07316c5b",
   "metadata": {},
   "outputs": [],
   "source": []
  }
 ],
 "metadata": {
  "kernelspec": {
   "display_name": "Python 3",
   "language": "python",
   "name": "python3"
  },
  "language_info": {
   "codemirror_mode": {
    "name": "ipython",
    "version": 3
   },
   "file_extension": ".py",
   "mimetype": "text/x-python",
   "name": "python",
   "nbconvert_exporter": "python",
   "pygments_lexer": "ipython3",
   "version": "3.8.8"
  }
 },
 "nbformat": 4,
 "nbformat_minor": 5
}
