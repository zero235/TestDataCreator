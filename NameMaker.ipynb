{
 "cells": [
  {
   "cell_type": "code",
   "execution_count": 3,
   "id": "6ab6057c",
   "metadata": {},
   "outputs": [
    {
     "name": "stdout",
     "output_type": "stream",
     "text": [
      "        Unnamed: 0 StateCode Sex  YearOfBirth      Name  Number\n",
      "0                0        AK   F         1910      Mary      14\n",
      "1                1        AK   F         1910     Annie      12\n",
      "2                2        AK   F         1910      Anna      10\n",
      "3                3        AK   F         1910  Margaret       8\n",
      "4                4        AK   F         1910     Helen       7\n",
      "...            ...       ...  ..          ...       ...     ...\n",
      "357810     5163022        TX   M         2015       Zen       5\n",
      "357811     5163023        TX   M         2015    Zephan       5\n",
      "357812     5163024        TX   M         2015     Ziyad       5\n",
      "357813     5163025        TX   M         2015      Zyan       5\n",
      "357814     5163026        TX   M         2015     Zyron       5\n",
      "\n",
      "[357815 rows x 6 columns]\n"
     ]
    }
   ],
   "source": [
    "import pandas\n",
    "\n",
    "#df= pandas.read_csv('babyNamesUS.csv')\n",
    "#print(df)\n",
    "\n",
    "df= pandas.read_csv('NamesAKTX.csv')\n",
    "print(df)\n"
   ]
  },
  {
   "cell_type": "code",
   "execution_count": 4,
   "id": "a430cc69",
   "metadata": {},
   "outputs": [
    {
     "name": "stdout",
     "output_type": "stream",
     "text": [
      "        Unnamed: 0 StateCode Sex  YearOfBirth    Name  Number\n",
      "27143      4832355        TX   F         1910    Mary     895\n",
      "27144      4832356        TX   F         1910    Ruby     314\n",
      "27145      4832357        TX   F         1910   Annie     277\n",
      "27146      4832358        TX   F         1910  Willie     260\n",
      "27147      4832359        TX   F         1910    Ruth     252\n",
      "...            ...       ...  ..          ...     ...     ...\n",
      "357810     5163022        TX   M         2015     Zen       5\n",
      "357811     5163023        TX   M         2015  Zephan       5\n",
      "357812     5163024        TX   M         2015   Ziyad       5\n",
      "357813     5163025        TX   M         2015    Zyan       5\n",
      "357814     5163026        TX   M         2015   Zyron       5\n",
      "\n",
      "[330672 rows x 6 columns]\n"
     ]
    }
   ],
   "source": [
    "#get texas names to make a smaller file\n",
    "SmallerDF=df.loc[df['StateCode'] == 'TX']\n",
    "print(SmallerDF)\n"
   ]
  },
  {
   "cell_type": "code",
   "execution_count": 5,
   "id": "050d7fb8",
   "metadata": {},
   "outputs": [
    {
     "name": "stdout",
     "output_type": "stream",
     "text": [
      "        Unnamed: 0 StateCode Sex  YearOfBirth      Name  Number\n",
      "0                0        AK   F         1910      Mary      14\n",
      "1                1        AK   F         1910     Annie      12\n",
      "2                2        AK   F         1910      Anna      10\n",
      "3                3        AK   F         1910  Margaret       8\n",
      "4                4        AK   F         1910     Helen       7\n",
      "...            ...       ...  ..          ...       ...     ...\n",
      "357810     5163022        TX   M         2015       Zen       5\n",
      "357811     5163023        TX   M         2015    Zephan       5\n",
      "357812     5163024        TX   M         2015     Ziyad       5\n",
      "357813     5163025        TX   M         2015      Zyan       5\n",
      "357814     5163026        TX   M         2015     Zyron       5\n",
      "\n",
      "[357815 rows x 6 columns]\n"
     ]
    }
   ],
   "source": [
    "#get texas names and AK names\n",
    "SmallerDF=df.loc[(df['StateCode'] == 'TX') | (df['StateCode'] == 'AK')]\n",
    "print(SmallerDF)"
   ]
  },
  {
   "cell_type": "code",
   "execution_count": 33,
   "id": "da48216e",
   "metadata": {},
   "outputs": [],
   "source": [
    "#Take just the smaller DB of names as source just TX and Alaska due to github limits\n",
    "SmallerDF.to_csv('NamesAKTX.csv') #just a random capture of the smaller example"
   ]
  },
  {
   "cell_type": "code",
   "execution_count": 13,
   "id": "07316c5b",
   "metadata": {},
   "outputs": [
    {
     "name": "stdout",
     "output_type": "stream",
     "text": [
      "       Unnamed: 0 StateCode Sex  YearOfBirth    Name  Number\n",
      "71435     4876647        TX   F         1953  Dahlia      15\n",
      "71435    Dahlia\n",
      "Name: Name, dtype: object\n"
     ]
    }
   ],
   "source": [
    "PickOne = SmallerDF.sample() ###NARROW BY YEAR PLUS OR MINUS 3, THEN STATE, THEN SEX\n",
    "print(PickOne)\n",
    "print(PickOne.Name)"
   ]
  },
  {
   "cell_type": "code",
   "execution_count": 30,
   "id": "2f9dc68b",
   "metadata": {},
   "outputs": [
    {
     "name": "stdout",
     "output_type": "stream",
     "text": [
      "    Unnamed: 0 StateCode Sex  YearOfBirth      Name  Number\n",
      "14          14        AK   F         1912      Mary       9\n",
      "15          15        AK   F         1912     Elsie       8\n",
      "16          16        AK   F         1912     Agnes       7\n",
      "17          17        AK   F         1912      Anna       7\n",
      "18          18        AK   F         1912     Helen       7\n",
      "19          19        AK   F         1912    Louise       7\n",
      "20          20        AK   F         1912      Jean       6\n",
      "21          21        AK   F         1912      Ruth       6\n",
      "22          22        AK   F         1912     Alice       5\n",
      "23          23        AK   F         1912    Esther       5\n",
      "24          24        AK   F         1912     Ethel       5\n",
      "25          25        AK   F         1912  Margaret       5\n",
      "26          26        AK   F         1912     Marie       5\n"
     ]
    },
    {
     "data": {
      "text/plain": [
       "17    Anna\n",
       "Name: Name, dtype: object"
      ]
     },
     "execution_count": 30,
     "metadata": {},
     "output_type": "execute_result"
    }
   ],
   "source": [
    "#make a function\n",
    "def FetchName(Year, State, Sex):\n",
    "    NarrowedDF=df.loc[(df['StateCode'] == State) & (df['YearOfBirth'] == Year) & (df['Sex'] == Sex)]\n",
    "  \n",
    "    print(NarrowedDF)\n",
    "    PickAName=NarrowedDF.sample()\n",
    "    return(PickAName.Name)\n",
    "\n",
    "    \n",
    "FetchName(1912,'AK','F')\n",
    "\n"
   ]
  },
  {
   "cell_type": "code",
   "execution_count": null,
   "id": "dc238233",
   "metadata": {},
   "outputs": [],
   "source": []
  },
  {
   "cell_type": "code",
   "execution_count": null,
   "id": "40e49822",
   "metadata": {},
   "outputs": [],
   "source": []
  }
 ],
 "metadata": {
  "kernelspec": {
   "display_name": "Python 3",
   "language": "python",
   "name": "python3"
  },
  "language_info": {
   "codemirror_mode": {
    "name": "ipython",
    "version": 3
   },
   "file_extension": ".py",
   "mimetype": "text/x-python",
   "name": "python",
   "nbconvert_exporter": "python",
   "pygments_lexer": "ipython3",
   "version": "3.8.8"
  }
 },
 "nbformat": 4,
 "nbformat_minor": 5
}
