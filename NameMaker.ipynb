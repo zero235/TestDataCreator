{
 "cells": [
  {
   "cell_type": "code",
   "execution_count": 18,
   "id": "6ab6057c",
   "metadata": {},
   "outputs": [],
   "source": [
    "import pandas\n",
    "\n",
    "#df= pandas.read_csv('babyNamesUS.csv')\n",
    "#print(df)\n",
    "\n",
    "df= pandas.read_csv('NamesAKTX.csv')\n",
    "#print(df)\n"
   ]
  },
  {
   "cell_type": "code",
   "execution_count": 19,
   "id": "050d7fb8",
   "metadata": {},
   "outputs": [],
   "source": [
    "#get texas names and AK names\n",
    "SmallerDF=df.loc[(df['StateCode'] == 'TX') | (df['StateCode'] == 'AK')]\n",
    "#print(SmallerDF)"
   ]
  },
  {
   "cell_type": "code",
   "execution_count": 20,
   "id": "da48216e",
   "metadata": {},
   "outputs": [],
   "source": [
    "#Take just the smaller DB of names as source just TX and Alaska due to github limits\n",
    "SmallerDF.to_csv('NamesAKTX.csv') #just a random capture of the smaller example"
   ]
  },
  {
   "cell_type": "code",
   "execution_count": 21,
   "id": "07316c5b",
   "metadata": {},
   "outputs": [
    {
     "name": "stdout",
     "output_type": "stream",
     "text": [
      "        Unnamed: 0  Unnamed: 0.1  Unnamed: 0.1.1  Unnamed: 0.1.1.1 StateCode  \\\n",
      "253312      253312        253312          253312           5058524        TX   \n",
      "\n",
      "       Sex  YearOfBirth    Name  Number  \n",
      "253312   M         1950  Donell       5  \n",
      "253312    Donell\n",
      "Name: Name, dtype: object\n"
     ]
    }
   ],
   "source": [
    "PickOne = SmallerDF.sample() ###NARROW BY YEAR PLUS OR MINUS 3, THEN STATE, THEN SEX\n",
    "print(PickOne)\n",
    "print(PickOne.Name)"
   ]
  },
  {
   "cell_type": "code",
   "execution_count": 58,
   "id": "d3f614a5",
   "metadata": {},
   "outputs": [],
   "source": [
    "def findword(name,n):\n",
    "    #Using ' ' as a separator, All_words ia a list of all the words in the String\n",
    "    All_words=name.split(\" \")\n",
    "    print(All_words[n-1])\n",
    "   "
   ]
  },
  {
   "cell_type": "code",
   "execution_count": 31,
   "id": "2f9dc68b",
   "metadata": {},
   "outputs": [
    {
     "name": "stdout",
     "output_type": "stream",
     "text": [
      "Francisca\n"
     ]
    }
   ],
   "source": [
    "#make a function\n",
    "def FetchFirstName(Year, State, Sex):\n",
    "    NarrowedDF=df.loc[(df['StateCode'] == State) & (df['YearOfBirth'] == Year) & (df['Sex'] == Sex)]\n",
    "  \n",
    "    #print(NarrowedDF)\n",
    "    PickAName=NarrowedDF.sample()\n",
    "    NameToReturn=PickAName.Name.to_string()\n",
    "    \n",
    "    return findword(NameToReturn,5)   #five spaces equals a tab\n",
    "    \n",
    "FetchFirstName(1912,'TX','F')\n",
    "\n"
   ]
  },
  {
   "cell_type": "code",
   "execution_count": 35,
   "id": "dc238233",
   "metadata": {},
   "outputs": [],
   "source": [
    "LastNameDataFrame= pandas.read_csv('surnames.csv')\n",
    "#print(LastNameDataFrame)\n"
   ]
  },
  {
   "cell_type": "code",
   "execution_count": 59,
   "id": "40e49822",
   "metadata": {},
   "outputs": [
    {
     "name": "stdout",
     "output_type": "stream",
     "text": [
      "MERRILL\n"
     ]
    },
    {
     "ename": "AttributeError",
     "evalue": "'NoneType' object has no attribute 'to_string'",
     "output_type": "error",
     "traceback": [
      "\u001b[1;31m---------------------------------------------------------------------------\u001b[0m",
      "\u001b[1;31mAttributeError\u001b[0m                            Traceback (most recent call last)",
      "\u001b[1;32m<ipython-input-59-d4fbb887da90>\u001b[0m in \u001b[0;36m<module>\u001b[1;34m\u001b[0m\n\u001b[0;32m     11\u001b[0m     \u001b[1;32mreturn\u001b[0m \u001b[0mto_lower\u001b[0m\u001b[1;33m(\u001b[0m\u001b[0mFormattedName\u001b[0m\u001b[1;33m)\u001b[0m\u001b[1;33m\u001b[0m\u001b[1;33m\u001b[0m\u001b[0m\n\u001b[0;32m     12\u001b[0m \u001b[1;33m\u001b[0m\u001b[0m\n\u001b[1;32m---> 13\u001b[1;33m \u001b[0mFetchLastName\u001b[0m\u001b[1;33m(\u001b[0m\u001b[1;33m)\u001b[0m\u001b[1;33m\u001b[0m\u001b[1;33m\u001b[0m\u001b[0m\n\u001b[0m",
      "\u001b[1;32m<ipython-input-59-d4fbb887da90>\u001b[0m in \u001b[0;36mFetchLastName\u001b[1;34m()\u001b[0m\n\u001b[0;32m      5\u001b[0m     \u001b[0mNameToReturn\u001b[0m\u001b[1;33m=\u001b[0m\u001b[0mSelectOne\u001b[0m\u001b[1;33m.\u001b[0m\u001b[0mname\u001b[0m\u001b[1;33m.\u001b[0m\u001b[0mto_string\u001b[0m\u001b[1;33m(\u001b[0m\u001b[1;33m)\u001b[0m\u001b[1;33m\u001b[0m\u001b[1;33m\u001b[0m\u001b[0m\n\u001b[0;32m      6\u001b[0m     \u001b[0mFormattedName\u001b[0m\u001b[1;33m=\u001b[0m\u001b[0mfindword\u001b[0m\u001b[1;33m(\u001b[0m\u001b[0mNameToReturn\u001b[0m\u001b[1;33m,\u001b[0m\u001b[1;36m5\u001b[0m\u001b[1;33m)\u001b[0m  \u001b[1;31m#five spaces equals a tab\u001b[0m\u001b[1;33m\u001b[0m\u001b[1;33m\u001b[0m\u001b[0m\n\u001b[1;32m----> 7\u001b[1;33m     \u001b[0mFormattedName\u001b[0m\u001b[1;33m=\u001b[0m\u001b[0mFormattedName\u001b[0m\u001b[1;33m.\u001b[0m\u001b[0mto_string\u001b[0m\u001b[1;33m(\u001b[0m\u001b[1;33m)\u001b[0m\u001b[1;33m\u001b[0m\u001b[1;33m\u001b[0m\u001b[0m\n\u001b[0m\u001b[0;32m      8\u001b[0m     \u001b[0mFormattedName\u001b[0m\u001b[1;33m=\u001b[0m\u001b[0mFormattedName\u001b[0m\u001b[1;33m.\u001b[0m\u001b[0mcapitalize\u001b[0m\u001b[1;33m(\u001b[0m\u001b[1;33m)\u001b[0m\u001b[1;33m\u001b[0m\u001b[1;33m\u001b[0m\u001b[0m\n\u001b[0;32m      9\u001b[0m \u001b[1;33m\u001b[0m\u001b[0m\n",
      "\u001b[1;31mAttributeError\u001b[0m: 'NoneType' object has no attribute 'to_string'"
     ]
    }
   ],
   "source": [
    "def FetchLastName():\n",
    "    import numpy\n",
    "\n",
    "    SelectOne = LastNameDataFrame.sample() ###NARROW BY YEAR PLUS OR MINUS 3, THEN STATE, THEN SEX\n",
    "    NameToReturn=SelectOne.name.to_string()\n",
    "    FormattedName=findword(NameToReturn,5)  #five spaces equals a tab\n",
    "    FormattedName=FormattedName.to_string()\n",
    "    FormattedName=FormattedName.capitalize() \n",
    "\n",
    "\n",
    "    return to_lower(FormattedName)\n",
    "    \n",
    "FetchLastName()    \n"
   ]
  },
  {
   "cell_type": "code",
   "execution_count": null,
   "id": "306fc24a",
   "metadata": {},
   "outputs": [],
   "source": [
    "#need middle name so the first name has to be run twice.\n"
   ]
  },
  {
   "cell_type": "code",
   "execution_count": null,
   "id": "41e13d82",
   "metadata": {},
   "outputs": [],
   "source": []
  },
  {
   "cell_type": "code",
   "execution_count": null,
   "id": "937542f2",
   "metadata": {},
   "outputs": [],
   "source": []
  }
 ],
 "metadata": {
  "kernelspec": {
   "display_name": "Python 3",
   "language": "python",
   "name": "python3"
  },
  "language_info": {
   "codemirror_mode": {
    "name": "ipython",
    "version": 3
   },
   "file_extension": ".py",
   "mimetype": "text/x-python",
   "name": "python",
   "nbconvert_exporter": "python",
   "pygments_lexer": "ipython3",
   "version": "3.8.8"
  }
 },
 "nbformat": 4,
 "nbformat_minor": 5
}
