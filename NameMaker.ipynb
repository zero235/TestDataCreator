{
 "cells": [
  {
   "cell_type": "code",
   "execution_count": 1,
   "id": "6ab6057c",
   "metadata": {},
   "outputs": [
    {
     "name": "stdout",
     "output_type": "stream",
     "text": [
      "        Unnamed: 0 StateCode Sex  YearOfBirth      Name  Number\n",
      "0                0        AK   F         1910      Mary      14\n",
      "1                1        AK   F         1910     Annie      12\n",
      "2                2        AK   F         1910      Anna      10\n",
      "3                3        AK   F         1910  Margaret       8\n",
      "4                4        AK   F         1910     Helen       7\n",
      "...            ...       ...  ..          ...       ...     ...\n",
      "357810     5163022        TX   M         2015       Zen       5\n",
      "357811     5163023        TX   M         2015    Zephan       5\n",
      "357812     5163024        TX   M         2015     Ziyad       5\n",
      "357813     5163025        TX   M         2015      Zyan       5\n",
      "357814     5163026        TX   M         2015     Zyron       5\n",
      "\n",
      "[357815 rows x 6 columns]\n"
     ]
    }
   ],
   "source": [
    "import pandas\n",
    "\n",
    "#df= pandas.read_csv('babyNamesUS.csv')\n",
    "#print(df)\n",
    "\n",
    "df= pandas.read_csv('NamesAKTX.csv')\n",
    "print(df)\n"
   ]
  },
  {
   "cell_type": "code",
   "execution_count": 2,
   "id": "a430cc69",
   "metadata": {},
   "outputs": [],
   "source": [
    "#get texas names to make a smaller file\n",
    "#SmallerDF=df.loc[df['StateCode'] == 'TX']\n",
    "#print(SmallerDF)\n"
   ]
  },
  {
   "cell_type": "code",
   "execution_count": 6,
   "id": "050d7fb8",
   "metadata": {},
   "outputs": [],
   "source": [
    "#get texas names and AK names\n",
    "SmallerDF=df.loc[(df['StateCode'] == 'TX') | (df['StateCode'] == 'AK')]\n",
    "#print(SmallerDF)"
   ]
  },
  {
   "cell_type": "code",
   "execution_count": 7,
   "id": "da48216e",
   "metadata": {},
   "outputs": [],
   "source": [
    "#Take just the smaller DB of names as source just TX and Alaska due to github limits\n",
    "SmallerDF.to_csv('NamesAKTX.csv') #just a random capture of the smaller example"
   ]
  },
  {
   "cell_type": "code",
   "execution_count": 8,
   "id": "07316c5b",
   "metadata": {},
   "outputs": [
    {
     "name": "stdout",
     "output_type": "stream",
     "text": [
      "        Unnamed: 0 StateCode Sex  YearOfBirth   Name  Number\n",
      "270682     5075894        TX   M         1966  Emory       9\n",
      "270682    Emory\n",
      "Name: Name, dtype: object\n"
     ]
    }
   ],
   "source": [
    "PickOne = SmallerDF.sample() ###NARROW BY YEAR PLUS OR MINUS 3, THEN STATE, THEN SEX\n",
    "print(PickOne)\n",
    "print(PickOne.Name)"
   ]
  },
  {
   "cell_type": "code",
   "execution_count": 9,
   "id": "2f9dc68b",
   "metadata": {},
   "outputs": [
    {
     "name": "stdout",
     "output_type": "stream",
     "text": [
      "    Unnamed: 0 StateCode Sex  YearOfBirth      Name  Number\n",
      "14          14        AK   F         1912      Mary       9\n",
      "15          15        AK   F         1912     Elsie       8\n",
      "16          16        AK   F         1912     Agnes       7\n",
      "17          17        AK   F         1912      Anna       7\n",
      "18          18        AK   F         1912     Helen       7\n",
      "19          19        AK   F         1912    Louise       7\n",
      "20          20        AK   F         1912      Jean       6\n",
      "21          21        AK   F         1912      Ruth       6\n",
      "22          22        AK   F         1912     Alice       5\n",
      "23          23        AK   F         1912    Esther       5\n",
      "24          24        AK   F         1912     Ethel       5\n",
      "25          25        AK   F         1912  Margaret       5\n",
      "26          26        AK   F         1912     Marie       5\n"
     ]
    },
    {
     "data": {
      "text/plain": [
       "26    Marie\n",
       "Name: Name, dtype: object"
      ]
     },
     "execution_count": 9,
     "metadata": {},
     "output_type": "execute_result"
    }
   ],
   "source": [
    "#make a function\n",
    "def FetchName(Year, State, Sex):\n",
    "    NarrowedDF=df.loc[(df['StateCode'] == State) & (df['YearOfBirth'] == Year) & (df['Sex'] == Sex)]\n",
    "  \n",
    "    print(NarrowedDF)\n",
    "    PickAName=NarrowedDF.sample(n=2)\n",
    "    return(PickAName.Name)\n",
    "    \n",
    "FetchName(1912,'AK','F')\n",
    "\n"
   ]
  },
  {
   "cell_type": "code",
   "execution_count": 23,
   "id": "dc238233",
   "metadata": {},
   "outputs": [],
   "source": [
    "LastNameDataFrame= pandas.read_csv('surnames.csv')\n",
    "#print(LastNameDataFrame)\n",
    "\n"
   ]
  },
  {
   "cell_type": "code",
   "execution_count": 32,
   "id": "40e49822",
   "metadata": {},
   "outputs": [
    {
     "name": "stdout",
     "output_type": "stream",
     "text": [
      "464    COPELAND\n",
      "Name: name, dtype: object\n"
     ]
    },
    {
     "ename": "KeyError",
     "evalue": "'name'",
     "output_type": "error",
     "traceback": [
      "\u001b[1;31m---------------------------------------------------------------------------\u001b[0m",
      "\u001b[1;31mKeyError\u001b[0m                                  Traceback (most recent call last)",
      "\u001b[1;32mC:\\ProgramData\\Anaconda3\\lib\\site-packages\\pandas\\core\\indexes\\base.py\u001b[0m in \u001b[0;36mget_loc\u001b[1;34m(self, key, method, tolerance)\u001b[0m\n\u001b[0;32m   3079\u001b[0m             \u001b[1;32mtry\u001b[0m\u001b[1;33m:\u001b[0m\u001b[1;33m\u001b[0m\u001b[1;33m\u001b[0m\u001b[0m\n\u001b[1;32m-> 3080\u001b[1;33m                 \u001b[1;32mreturn\u001b[0m \u001b[0mself\u001b[0m\u001b[1;33m.\u001b[0m\u001b[0m_engine\u001b[0m\u001b[1;33m.\u001b[0m\u001b[0mget_loc\u001b[0m\u001b[1;33m(\u001b[0m\u001b[0mcasted_key\u001b[0m\u001b[1;33m)\u001b[0m\u001b[1;33m\u001b[0m\u001b[1;33m\u001b[0m\u001b[0m\n\u001b[0m\u001b[0;32m   3081\u001b[0m             \u001b[1;32mexcept\u001b[0m \u001b[0mKeyError\u001b[0m \u001b[1;32mas\u001b[0m \u001b[0merr\u001b[0m\u001b[1;33m:\u001b[0m\u001b[1;33m\u001b[0m\u001b[1;33m\u001b[0m\u001b[0m\n",
      "\u001b[1;32mpandas\\_libs\\index.pyx\u001b[0m in \u001b[0;36mpandas._libs.index.IndexEngine.get_loc\u001b[1;34m()\u001b[0m\n",
      "\u001b[1;32mpandas\\_libs\\index.pyx\u001b[0m in \u001b[0;36mpandas._libs.index.IndexEngine.get_loc\u001b[1;34m()\u001b[0m\n",
      "\u001b[1;32mpandas\\_libs\\index_class_helper.pxi\u001b[0m in \u001b[0;36mpandas._libs.index.Int64Engine._check_type\u001b[1;34m()\u001b[0m\n",
      "\u001b[1;31mKeyError\u001b[0m: 'name'",
      "\nThe above exception was the direct cause of the following exception:\n",
      "\u001b[1;31mKeyError\u001b[0m                                  Traceback (most recent call last)",
      "\u001b[1;32m<ipython-input-32-7484ba1a89d4>\u001b[0m in \u001b[0;36m<module>\u001b[1;34m\u001b[0m\n\u001b[0;32m     10\u001b[0m \u001b[1;33m\u001b[0m\u001b[0m\n\u001b[0;32m     11\u001b[0m \u001b[1;31m#str(LastNameSuggestion)\u001b[0m\u001b[1;33m\u001b[0m\u001b[1;33m\u001b[0m\u001b[1;33m\u001b[0m\u001b[0m\n\u001b[1;32m---> 12\u001b[1;33m \u001b[0mval\u001b[0m \u001b[1;33m=\u001b[0m \u001b[0mLastNameSuggestion\u001b[0m\u001b[1;33m[\u001b[0m\u001b[1;34m'name'\u001b[0m\u001b[1;33m]\u001b[0m\u001b[1;33m.\u001b[0m\u001b[0mvalues\u001b[0m\u001b[1;33m[\u001b[0m\u001b[1;36m0\u001b[0m\u001b[1;33m]\u001b[0m\u001b[1;33m\u001b[0m\u001b[1;33m\u001b[0m\u001b[0m\n\u001b[0m\u001b[0;32m     13\u001b[0m \u001b[0mprint\u001b[0m\u001b[1;33m(\u001b[0m\u001b[0mval\u001b[0m\u001b[1;33m)\u001b[0m\u001b[1;33m\u001b[0m\u001b[1;33m\u001b[0m\u001b[0m\n",
      "\u001b[1;32mC:\\ProgramData\\Anaconda3\\lib\\site-packages\\pandas\\core\\series.py\u001b[0m in \u001b[0;36m__getitem__\u001b[1;34m(self, key)\u001b[0m\n\u001b[0;32m    851\u001b[0m \u001b[1;33m\u001b[0m\u001b[0m\n\u001b[0;32m    852\u001b[0m         \u001b[1;32melif\u001b[0m \u001b[0mkey_is_scalar\u001b[0m\u001b[1;33m:\u001b[0m\u001b[1;33m\u001b[0m\u001b[1;33m\u001b[0m\u001b[0m\n\u001b[1;32m--> 853\u001b[1;33m             \u001b[1;32mreturn\u001b[0m \u001b[0mself\u001b[0m\u001b[1;33m.\u001b[0m\u001b[0m_get_value\u001b[0m\u001b[1;33m(\u001b[0m\u001b[0mkey\u001b[0m\u001b[1;33m)\u001b[0m\u001b[1;33m\u001b[0m\u001b[1;33m\u001b[0m\u001b[0m\n\u001b[0m\u001b[0;32m    854\u001b[0m \u001b[1;33m\u001b[0m\u001b[0m\n\u001b[0;32m    855\u001b[0m         \u001b[1;32mif\u001b[0m \u001b[0mis_hashable\u001b[0m\u001b[1;33m(\u001b[0m\u001b[0mkey\u001b[0m\u001b[1;33m)\u001b[0m\u001b[1;33m:\u001b[0m\u001b[1;33m\u001b[0m\u001b[1;33m\u001b[0m\u001b[0m\n",
      "\u001b[1;32mC:\\ProgramData\\Anaconda3\\lib\\site-packages\\pandas\\core\\series.py\u001b[0m in \u001b[0;36m_get_value\u001b[1;34m(self, label, takeable)\u001b[0m\n\u001b[0;32m    959\u001b[0m \u001b[1;33m\u001b[0m\u001b[0m\n\u001b[0;32m    960\u001b[0m         \u001b[1;31m# Similar to Index.get_value, but we do not fall back to positional\u001b[0m\u001b[1;33m\u001b[0m\u001b[1;33m\u001b[0m\u001b[1;33m\u001b[0m\u001b[0m\n\u001b[1;32m--> 961\u001b[1;33m         \u001b[0mloc\u001b[0m \u001b[1;33m=\u001b[0m \u001b[0mself\u001b[0m\u001b[1;33m.\u001b[0m\u001b[0mindex\u001b[0m\u001b[1;33m.\u001b[0m\u001b[0mget_loc\u001b[0m\u001b[1;33m(\u001b[0m\u001b[0mlabel\u001b[0m\u001b[1;33m)\u001b[0m\u001b[1;33m\u001b[0m\u001b[1;33m\u001b[0m\u001b[0m\n\u001b[0m\u001b[0;32m    962\u001b[0m         \u001b[1;32mreturn\u001b[0m \u001b[0mself\u001b[0m\u001b[1;33m.\u001b[0m\u001b[0mindex\u001b[0m\u001b[1;33m.\u001b[0m\u001b[0m_get_values_for_loc\u001b[0m\u001b[1;33m(\u001b[0m\u001b[0mself\u001b[0m\u001b[1;33m,\u001b[0m \u001b[0mloc\u001b[0m\u001b[1;33m,\u001b[0m \u001b[0mlabel\u001b[0m\u001b[1;33m)\u001b[0m\u001b[1;33m\u001b[0m\u001b[1;33m\u001b[0m\u001b[0m\n\u001b[0;32m    963\u001b[0m \u001b[1;33m\u001b[0m\u001b[0m\n",
      "\u001b[1;32mC:\\ProgramData\\Anaconda3\\lib\\site-packages\\pandas\\core\\indexes\\base.py\u001b[0m in \u001b[0;36mget_loc\u001b[1;34m(self, key, method, tolerance)\u001b[0m\n\u001b[0;32m   3080\u001b[0m                 \u001b[1;32mreturn\u001b[0m \u001b[0mself\u001b[0m\u001b[1;33m.\u001b[0m\u001b[0m_engine\u001b[0m\u001b[1;33m.\u001b[0m\u001b[0mget_loc\u001b[0m\u001b[1;33m(\u001b[0m\u001b[0mcasted_key\u001b[0m\u001b[1;33m)\u001b[0m\u001b[1;33m\u001b[0m\u001b[1;33m\u001b[0m\u001b[0m\n\u001b[0;32m   3081\u001b[0m             \u001b[1;32mexcept\u001b[0m \u001b[0mKeyError\u001b[0m \u001b[1;32mas\u001b[0m \u001b[0merr\u001b[0m\u001b[1;33m:\u001b[0m\u001b[1;33m\u001b[0m\u001b[1;33m\u001b[0m\u001b[0m\n\u001b[1;32m-> 3082\u001b[1;33m                 \u001b[1;32mraise\u001b[0m \u001b[0mKeyError\u001b[0m\u001b[1;33m(\u001b[0m\u001b[0mkey\u001b[0m\u001b[1;33m)\u001b[0m \u001b[1;32mfrom\u001b[0m \u001b[0merr\u001b[0m\u001b[1;33m\u001b[0m\u001b[1;33m\u001b[0m\u001b[0m\n\u001b[0m\u001b[0;32m   3083\u001b[0m \u001b[1;33m\u001b[0m\u001b[0m\n\u001b[0;32m   3084\u001b[0m         \u001b[1;32mif\u001b[0m \u001b[0mtolerance\u001b[0m \u001b[1;32mis\u001b[0m \u001b[1;32mnot\u001b[0m \u001b[1;32mNone\u001b[0m\u001b[1;33m:\u001b[0m\u001b[1;33m\u001b[0m\u001b[1;33m\u001b[0m\u001b[0m\n",
      "\u001b[1;31mKeyError\u001b[0m: 'name'"
     ]
    }
   ],
   "source": [
    "import numpy\n",
    "\n",
    "SelectOne = LastNameDataFrame.sample() ###NARROW BY YEAR PLUS OR MINUS 3, THEN STATE, THEN SEX\n",
    "#print(SelectOne)\n",
    "#print(SelectOne.name)\n",
    "\n",
    "LastNameSuggestion=SelectOne.name  #Truly just pulling a last name at random\n",
    "\n",
    "print(LastNameSuggestion)\n",
    "\n",
    "#str(LastNameSuggestion)\n",
    "val = LastNameSuggestion['name'].values[0]\n",
    "print(val)\n"
   ]
  },
  {
   "cell_type": "code",
   "execution_count": null,
   "id": "306fc24a",
   "metadata": {},
   "outputs": [],
   "source": [
    "#need middle name so the first name has to be run twice.\n"
   ]
  },
  {
   "cell_type": "code",
   "execution_count": null,
   "id": "41e13d82",
   "metadata": {},
   "outputs": [],
   "source": []
  },
  {
   "cell_type": "code",
   "execution_count": null,
   "id": "937542f2",
   "metadata": {},
   "outputs": [],
   "source": []
  }
 ],
 "metadata": {
  "kernelspec": {
   "display_name": "Python 3",
   "language": "python",
   "name": "python3"
  },
  "language_info": {
   "codemirror_mode": {
    "name": "ipython",
    "version": 3
   },
   "file_extension": ".py",
   "mimetype": "text/x-python",
   "name": "python",
   "nbconvert_exporter": "python",
   "pygments_lexer": "ipython3",
   "version": "3.8.8"
  }
 },
 "nbformat": 4,
 "nbformat_minor": 5
}
