{
 "cells": [
  {
   "cell_type": "code",
   "execution_count": 1,
   "id": "6ab6057c",
   "metadata": {},
   "outputs": [],
   "source": [
    "import pandas\n",
    "\n",
    "#df= pandas.read_csv('babyNamesUS.csv')\n",
    "#print(df)\n",
    "\n",
    "df= pandas.read_csv('NamesAKTX.csv')\n",
    "#print(df)\n"
   ]
  },
  {
   "cell_type": "code",
   "execution_count": 2,
   "id": "050d7fb8",
   "metadata": {},
   "outputs": [],
   "source": [
    "#get texas names and AK names\n",
    "SmallerDF=df.loc[(df['StateCode'] == 'TX') | (df['StateCode'] == 'AK')]\n",
    "#print(SmallerDF)"
   ]
  },
  {
   "cell_type": "code",
   "execution_count": 3,
   "id": "da48216e",
   "metadata": {},
   "outputs": [],
   "source": [
    "#Take just the smaller DB of names as source just TX and Alaska due to github limits\n",
    "SmallerDF.to_csv('NamesAKTX.csv') #just a random capture of the smaller example"
   ]
  },
  {
   "cell_type": "code",
   "execution_count": 4,
   "id": "07316c5b",
   "metadata": {},
   "outputs": [
    {
     "name": "stdout",
     "output_type": "stream",
     "text": [
      "        Unnamed: 0  Unnamed: 0.1  Unnamed: 0.1.1  Unnamed: 0.1.1.1  \\\n",
      "325733      325733        325733          325733            325733   \n",
      "\n",
      "        Unnamed: 0.1.1.1.1  Unnamed: 0.1.1.1.1.1 StateCode Sex  YearOfBirth  \\\n",
      "325733              325733               5130945        TX   M         2003   \n",
      "\n",
      "         Name  Number  \n",
      "325733  Bruno      30  \n",
      "325733    Bruno\n",
      "Name: Name, dtype: object\n"
     ]
    }
   ],
   "source": [
    "PickOne = SmallerDF.sample() ###NARROW BY YEAR PLUS OR MINUS 3, THEN STATE, THEN SEX\n",
    "print(PickOne)\n",
    "print(PickOne.Name)"
   ]
  },
  {
   "cell_type": "code",
   "execution_count": 5,
   "id": "c38c6f0b",
   "metadata": {},
   "outputs": [],
   "source": [
    "def findword(name,n):\n",
    "    #Using ' ' as a separator, All_words ia a list of all the words in the String\n",
    "    All_words=name.split(\" \")\n",
    "    return (All_words[n-1])\n",
    "   "
   ]
  },
  {
   "cell_type": "code",
   "execution_count": 6,
   "id": "2f9dc68b",
   "metadata": {},
   "outputs": [
    {
     "data": {
      "text/plain": [
       "'Anastacia'"
      ]
     },
     "execution_count": 6,
     "metadata": {},
     "output_type": "execute_result"
    }
   ],
   "source": [
    "#make a first name function\n",
    "def FetchFirstName(Year, State, Sex):\n",
    "    NarrowedDF=df.loc[(df['StateCode'] == State) & (df['YearOfBirth'] == Year) & (df['Sex'] == Sex)]\n",
    "  \n",
    "    #print(NarrowedDF)\n",
    "    PickAName=NarrowedDF.sample()\n",
    "    NameToReturn=PickAName.Name.to_string()\n",
    "    \n",
    "    return findword(NameToReturn,5)   #five spaces equals a tab\n",
    "    \n",
    "FetchFirstName(1912,'TX','F')\n",
    "\n"
   ]
  },
  {
   "cell_type": "code",
   "execution_count": 7,
   "id": "dc238233",
   "metadata": {},
   "outputs": [],
   "source": [
    "LastNameDataFrame= pandas.read_csv('surnames.csv')\n",
    "#print(LastNameDataFrame)\n"
   ]
  },
  {
   "cell_type": "code",
   "execution_count": 8,
   "id": "40e49822",
   "metadata": {},
   "outputs": [
    {
     "data": {
      "text/plain": [
       "'Vaughan'"
      ]
     },
     "execution_count": 8,
     "metadata": {},
     "output_type": "execute_result"
    }
   ],
   "source": [
    "def FetchLastName():\n",
    "    import numpy\n",
    "\n",
    "    SelectOne = LastNameDataFrame.sample() ###NARROW BY YEAR PLUS OR MINUS 3, THEN STATE, THEN SEX\n",
    "    NameToReturn=SelectOne.name.to_string()\n",
    "    FormattedName=findword(NameToReturn,5)  #five spaces equals a tab\n",
    "    FormattedName=FormattedName.capitalize() #capitalize first letter of word\n",
    "\n",
    "    return FormattedName\n",
    "    \n",
    "FetchLastName()    \n"
   ]
  },
  {
   "cell_type": "code",
   "execution_count": 9,
   "id": "306fc24a",
   "metadata": {},
   "outputs": [],
   "source": [
    "#need middle name so the first name has to be run twice.\n"
   ]
  },
  {
   "cell_type": "code",
   "execution_count": 10,
   "id": "41e13d82",
   "metadata": {},
   "outputs": [],
   "source": [
    "def MakeAName():\n",
    "    firstname=FetchFirstName(1912,'TX','F')\n",
    "    lastname=FetchLastName()\n",
    "    \n",
    "    fullname=firstname+\" \"+lastname\n",
    "    \n",
    "    return fullname\n"
   ]
  },
  {
   "cell_type": "code",
   "execution_count": 11,
   "id": "937542f2",
   "metadata": {},
   "outputs": [
    {
     "name": "stdout",
     "output_type": "stream",
     "text": [
      "Dovie Rowe\n",
      "Maurice Mullen\n",
      "Ruthie Bryan\n",
      "Ola Willis\n",
      "Jaunita Griffith\n",
      "Francisca Walton\n",
      "Modesta Berg\n",
      "Eloisa Brady\n",
      "Lilly Mcbride\n",
      "Eloise Li\n",
      "Otila Proctor\n",
      "Adela Silva\n",
      "Nita Huerta\n",
      "Nancy Villegas\n",
      "Carolina Pitts\n",
      "Loree Manning\n",
      "Celia Dorsey\n",
      "Sophie Hendrickson\n",
      "Johnie Sears\n",
      "Ester Daly\n",
      "Cassie Justice\n",
      "Lexie Goff\n",
      "Sofia Ewing\n",
      "Albina Ferrell\n",
      "Violet French\n",
      "Lennie Newell\n",
      "Cecile Huber\n",
      "June Fleming\n",
      "Bonnie Lutz\n",
      "Verda Burns\n",
      "Irene Curry\n",
      "Pilar Hess\n",
      "Ignacia Wagner\n",
      "Donna Brandt\n",
      "Bobbie Garza\n",
      "Lou Farmer\n",
      "Erie Potts\n",
      "Una Hodges\n",
      "Verda Palmer\n",
      "Joy Solis\n",
      "Ruby Leon\n",
      "Bernice Pineda\n",
      "Mary Arellano\n",
      "Hortense Burnett\n",
      "Sally Chan\n",
      "Lyda Mcconnell\n",
      "Hulda Stark\n",
      "Elnora Strong\n",
      "Jovita Williamson\n",
      "Hellen Prince\n",
      "Frances Mayer\n",
      "Katharine Mccall\n",
      "Faustina Nichols\n",
      "Regina Zamora\n",
      "Isabell Baxter\n",
      "Eva Bates\n",
      "Anita Palacios\n",
      "Wilma Moses\n",
      "Lue Sexton\n",
      "Sylvia Ballard\n",
      "Doris Cordova\n",
      "Ella Knight\n",
      "Patsy Ellis\n",
      "Lina Dillon\n",
      "Amanda Gordon\n",
      "Theresa Brandt\n",
      "Corinne Jennings\n",
      "Iola Bass\n",
      "Cordie Atkinson\n",
      "Edythe Camacho\n",
      "Daisy Trujillo\n",
      "Reyes Carson\n",
      "Petra Higgins\n",
      "Aline Ramos\n",
      "Cruz Gibson\n",
      "Carolina Wiggins\n",
      "Rosalee Ponce\n",
      "Reva Dalton\n",
      "Petra Gates\n",
      "Gussie Erickson\n"
     ]
    }
   ],
   "source": [
    "for i in range(80):\n",
    "    print(MakeAName())"
   ]
  },
  {
   "cell_type": "code",
   "execution_count": null,
   "id": "3c0bba49",
   "metadata": {},
   "outputs": [],
   "source": []
  },
  {
   "cell_type": "code",
   "execution_count": null,
   "id": "69a9d3f7",
   "metadata": {},
   "outputs": [],
   "source": []
  }
 ],
 "metadata": {
  "kernelspec": {
   "display_name": "Python 3",
   "language": "python",
   "name": "python3"
  },
  "language_info": {
   "codemirror_mode": {
    "name": "ipython",
    "version": 3
   },
   "file_extension": ".py",
   "mimetype": "text/x-python",
   "name": "python",
   "nbconvert_exporter": "python",
   "pygments_lexer": "ipython3",
   "version": "3.8.8"
  }
 },
 "nbformat": 4,
 "nbformat_minor": 5
}
